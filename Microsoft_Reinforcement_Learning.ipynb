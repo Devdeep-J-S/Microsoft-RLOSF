{
  "nbformat": 4,
  "nbformat_minor": 0,
  "metadata": {
    "colab": {
      "provenance": [],
      "authorship_tag": "ABX9TyP8f6LvavApq8iMemyHFsAf",
      "include_colab_link": true
    },
    "kernelspec": {
      "name": "python3",
      "display_name": "Python 3"
    },
    "language_info": {
      "name": "python"
    }
  },
  "cells": [
    {
      "cell_type": "markdown",
      "metadata": {
        "id": "view-in-github",
        "colab_type": "text"
      },
      "source": [
        "<a href=\"https://colab.research.google.com/github/Devdeep-J-S/Microsoft-RLOSF/blob/main/Microsoft_Reinforcement_Learning.ipynb\" target=\"_parent\"><img src=\"https://colab.research.google.com/assets/colab-badge.svg\" alt=\"Open In Colab\"/></a>"
      ]
    },
    {
      "cell_type": "markdown",
      "source": [
        "Name : Devdeep Shetranjiwala <br>\n",
        "Email ID : devdeep0702@gmail.com "
      ],
      "metadata": {
        "id": "ELJqe2-xKrEo"
      }
    },
    {
      "cell_type": "markdown",
      "source": [
        "## Screening exercise:\n",
        "> Let’s say we have just implemented a new training algorithm for regression with the following interface:\n",
        "\n",
        "class NewTrainer: <br>\n",
        "    ... <br>\n",
        "    def train(self, x: List[List[float]], y: List[float]): <br>\n",
        "        ... <br>\n",
        "\n",
        "    def predict(self, x: List[float]) -> float: <br>\n",
        "        ... <br>\n",
        "        return 0 <br>\n",
        "> Design and write test suite for it in Python using unittest or pytest frameworks.\n",
        "\n"
      ],
      "metadata": {
        "id": "J2tXxVuPK1go"
      }
    },
    {
      "cell_type": "markdown",
      "source": [
        "Declaring model in training and using it in pytest_file.py to perform simple testing of code.\n",
        "\n",
        "Tool of my choice : \n",
        "```\n",
        "Pytest\n",
        "``` "
      ],
      "metadata": {
        "id": "9gI1p1ZXK_cX"
      }
    },
    {
      "cell_type": "code",
      "execution_count": 39,
      "metadata": {
        "colab": {
          "base_uri": "https://localhost:8080/"
        },
        "id": "QB2w6qCu-mxK",
        "outputId": "04b3de60-1336-4e6f-eeba-f204dc57867d"
      },
      "outputs": [
        {
          "output_type": "stream",
          "name": "stdout",
          "text": [
            "Overwriting training.py\n"
          ]
        }
      ],
      "source": [
        "%%file training.py\n",
        "from typing import List\n",
        "from sklearn.linear_model import LinearRegression\n",
        "\n",
        "class NormalTestError(Exception):\n",
        "    pass\n",
        "\n",
        "class NewTrainer:\n",
        "    def __init__(self):\n",
        "        self.model = LinearRegression()\n",
        "\n",
        "    def train(self, x: List[List[float]], y: List[float]):\n",
        "        if not isinstance(x, list) or not all(isinstance(xi, list) and all(isinstance(xij, float) for xij in xi) for xi in x):\n",
        "            raise TypeError(\"X is not in 2D floats\")\n",
        "\n",
        "        # Ensure that y is a 1D list of floats\n",
        "        if not isinstance(y, list) or not all(isinstance(yi, float) for yi in y):\n",
        "            raise TypeError(\"y is not in 1D floats\")\n",
        "        self.model.fit(x, y)\n",
        "\n",
        "\n",
        "    def predict(self, x: List[float]) -> float:\n",
        "        if len(x) == 0:\n",
        "            raise ValueError(\"X is empty list, pls correct it.\")\n",
        "        if not isinstance(x, list) or not all(isinstance(xi, float) for xi in x):\n",
        "            raise TypeError(\"X  must be a 1D list of floats\")\n",
        "        return self.model.predict([x])[0]"
      ]
    },
    {
      "cell_type": "code",
      "source": [
        "%%file pytest_file.py\n",
        "import numpy as np\n",
        "from training import NewTrainer, NormalTestError\n",
        "import pytest\n",
        "from sklearn.datasets import load_diabetes\n",
        "from sklearn.model_selection import train_test_split\n",
        "from sklearn.metrics import mean_squared_error\n",
        "\n",
        "\n",
        "\n",
        "# Test case for checking NaN values (if any)\n",
        "def test_predict_nan_values():\n",
        "    trainer = NewTrainer()\n",
        "    x = [[1, 2, 3], [4, 5, 6], [7, 8, 9]]\n",
        "    y = [1, 2, 3]\n",
        "    with pytest.raises(TypeError):\n",
        "        trainer.train(x, y)\n",
        "    x_test = [[1, 2, 3], [4, np.nan, 6], [7, 8, 9]]\n",
        "    with pytest.raises(TypeError):\n",
        "        trainer.predict(x_test)\n",
        "\n",
        "# Test case for x containing non-float values\n",
        "def test_train_x_non_float():\n",
        "    trainer = NewTrainer()\n",
        "    x = [[1.0, 2.0], [3.0, 'four'], [5.0, 6.0]]\n",
        "    y = [1.0, 2.0, 3.0]\n",
        "    with pytest.raises(TypeError):\n",
        "        trainer.train(x, y)\n",
        "\n",
        "# Test case for y containing non-float values\n",
        "def test_train_y_non_float():\n",
        "    trainer = NewTrainer()\n",
        "    x = [[1.0, 2.0], [3.0, 4.0], [5.0, 6.0]]\n",
        "    y = [1.0, 'two', 3.0]\n",
        "    with pytest.raises(TypeError):\n",
        "        trainer.train(x, y)\n",
        "\n",
        "# Test case for x not being a 2D list of floats\n",
        "def test_train_x_dtype():\n",
        "    trainer = NewTrainer()\n",
        "    x = [1.0, 2.0, 3.0]\n",
        "    y = [1.0, 2.0, 3.0]\n",
        "    with pytest.raises(TypeError):\n",
        "        trainer.train(x, y)\n",
        "\n",
        "# Test case for y not being a 1D list of floats\n",
        "def test_train_y_dtype():\n",
        "    trainer = NewTrainer()\n",
        "    x = [[1.0, 2.0], [3.0, 4.0], [5.0, 6.0]]\n",
        "    y = [[1.0], [2.0], [3.0]]\n",
        "    with pytest.raises(TypeError):\n",
        "        trainer.train(x, y)\n",
        "\n",
        "# Test case for x containing non-float values in predict method\n",
        "def test_predict_x_non_float():\n",
        "    trainer = NewTrainer()\n",
        "    x = [1.0, 'two', 3.0]\n",
        "    y = [1.0, 2.0, 3.0]\n",
        "    trainer.train([[1.0], [2.0], [3.0]], y)\n",
        "    with pytest.raises(TypeError):\n",
        "        trainer.predict(x)\n",
        "\n",
        "# Test case for singleton x\n",
        "def test_predict_singleton_x():\n",
        "    trainer = NewTrainer()\n",
        "    x = [1.0]\n",
        "    y = [1.0]\n",
        "    trainer.train([[1.0]], y)\n",
        "    assert trainer.predict(x) == pytest.approx(1.0, 0.01)\n",
        "\n",
        "# Test case for empty valued x\n",
        "def test_empty_x():\n",
        "    trainer=NewTrainer()\n",
        "    x=[]\n",
        "    y=[1.0,2.0,3.0]\n",
        "    with pytest.raises(ValueError):\n",
        "        trainer.predict(x)\n",
        "\n",
        "# Test case for valid input\n",
        "def test_valid_input():\n",
        "    trainer = NewTrainer()\n",
        "    x = [[1.0, 2.0], [3.0, 4.0], [5.0, 6.0]]\n",
        "    y = [1.0, 2.0, 3.0]\n",
        "    trainer.train(x, y)\n",
        "    assert trainer.predict([7.0, 8.0]) == pytest.approx(4.0, 0.01)\n",
        "    \n",
        "\n",
        "#Now, let's check if by using a dataset, are we getting the correct outputs or not \n",
        "diabetes = load_diabetes()\n",
        "X, y =  diabetes.data, diabetes.target\n",
        "X_train, X_test, y_train, y_test = train_test_split(X, y, test_size=0.2, random_state=42)\n",
        "\n",
        "def test_new_trainer():\n",
        "    model = NewTrainer() \n",
        "    model.train(X_train.tolist(), y_train.tolist())\n",
        "    y_pred = [model.predict(x) for x in X_test.tolist()]\n",
        "    mse = mean_squared_error(y_test, y_pred)\n",
        "    print (mse) "
      ],
      "metadata": {
        "colab": {
          "base_uri": "https://localhost:8080/"
        },
        "id": "4BVgM0VS-0lj",
        "outputId": "7e9cf344-3f4e-4d9a-96f8-598b10ee0c1a"
      },
      "execution_count": 40,
      "outputs": [
        {
          "output_type": "stream",
          "name": "stdout",
          "text": [
            "Overwriting pytest_file.py\n"
          ]
        }
      ]
    },
    {
      "cell_type": "code",
      "source": [
        "!pytest pytest_file.py"
      ],
      "metadata": {
        "colab": {
          "base_uri": "https://localhost:8080/"
        },
        "id": "3fzMd2Ss_0Zt",
        "outputId": "169243ac-174b-4d63-ef90-78bbf745737e"
      },
      "execution_count": 41,
      "outputs": [
        {
          "output_type": "stream",
          "name": "stdout",
          "text": [
            "\u001b[1m============================= test session starts ==============================\u001b[0m\n",
            "platform linux -- Python 3.9.16, pytest-7.2.2, pluggy-1.0.0\n",
            "rootdir: /content\n",
            "collected 10 items                                                             \u001b[0m\n",
            "\n",
            "pytest_file.py \u001b[32m.\u001b[0m\u001b[32m.\u001b[0m\u001b[32m.\u001b[0m\u001b[32m.\u001b[0m\u001b[32m.\u001b[0m\u001b[32m.\u001b[0m\u001b[32m.\u001b[0m\u001b[32m.\u001b[0m\u001b[32m.\u001b[0m\u001b[32m.\u001b[0m\u001b[32m                                                [100%]\u001b[0m\n",
            "\n",
            "\u001b[32m============================== \u001b[32m\u001b[1m10 passed\u001b[0m\u001b[32m in 1.20s\u001b[0m\u001b[32m ==============================\u001b[0m\n"
          ]
        }
      ]
    }
  ]
}